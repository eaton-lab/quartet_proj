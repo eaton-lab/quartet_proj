{
 "cells": [
  {
   "cell_type": "code",
   "execution_count": 209,
   "metadata": {
    "collapsed": true
   },
   "outputs": [],
   "source": [
    "import h5py\n",
    "import math\n",
    "import numpy as np\n",
    "from operator import itemgetter\n",
    "import scipy.stats as st\n",
    "from itertools import compress"
   ]
  },
  {
   "cell_type": "code",
   "execution_count": 3,
   "metadata": {
    "collapsed": true
   },
   "outputs": [],
   "source": [
    "filename = 'all_matrices.hdf5'\n",
    "all_matrices = h5py.File(filename, 'r')"
   ]
  },
  {
   "cell_type": "code",
   "execution_count": 4,
   "metadata": {
    "collapsed": true
   },
   "outputs": [],
   "source": [
    "fullmat0123 = all_matrices[all_matrices.keys()[0]]['0123']\n",
    "fullmat0213 = all_matrices[all_matrices.keys()[0]]['0213']\n",
    "fullmat0312 = all_matrices[all_matrices.keys()[0]]['0312']"
   ]
  },
  {
   "cell_type": "code",
   "execution_count": 5,
   "metadata": {},
   "outputs": [
    {
     "data": {
      "text/plain": [
       "388.0"
      ]
     },
     "execution_count": 5,
     "metadata": {},
     "output_type": "execute_result"
    }
   ],
   "source": [
    "# get the scores\n",
    "scores = [math.sqrt(np.sum(np.square(np.linalg.svd(fullmat0123)[1][10:15]))),math.sqrt(np.sum(np.square(np.linalg.svd(fullmat0213)[1][10:15]))),math.sqrt(np.sum(np.square(np.linalg.svd(fullmat0312)[1][10:15])))]\n",
    "scores\n",
    "# get index of minimum score, via <https://stackoverflow.com/questions/2474015/getting-the-index-of-the-returned-max-or-min-item-using-max-min-on-a-list>\n",
    "min_index, min_value = min(enumerate(scores), key=itemgetter(1))\n",
    "# get winning matrix\n",
    "winning_mat = all_matrices[all_matrices.keys()[0]][['0123','0213','0312'][min_index]]"
   ]
  },
  {
   "cell_type": "code",
   "execution_count": 159,
   "metadata": {
    "collapsed": true
   },
   "outputs": [],
   "source": [
    "#0  1  2  3  4  5  6  7  8  9  10 11 12 13 14 15\n",
    "#00,01,02,03,10,11,12,13,20,21,22,23,30,31,32,33\n",
    "\n",
    "def calcHils(invmat):\n",
    "    comb_dict = dict(zip([00,01,02,03,10,11,12,13,20,21,22,23,30,31,32,33], [0,  1,  2,  3,  4,  5,  6,  7,  8,  9,  10, 11, 12, 13, 14, 15]))\n",
    "    num_iijj = (invmat[comb_dict[00],comb_dict[11]] + invmat[comb_dict[00],comb_dict[22]] +\n",
    "        invmat[comb_dict[00],comb_dict[33]] + invmat[comb_dict[11],comb_dict[00]] + invmat[comb_dict[11],comb_dict[22]] +\n",
    "        invmat[comb_dict[11],comb_dict[33]] + invmat[comb_dict[22],comb_dict[00]] + invmat[comb_dict[22],comb_dict[11]] +\n",
    "        invmat[comb_dict[22],comb_dict[33]] + invmat[comb_dict[33],comb_dict[00]] + invmat[comb_dict[33],comb_dict[11]] +\n",
    "        invmat[comb_dict[33],comb_dict[22]])\n",
    "\n",
    "    num_ijji = (invmat[comb_dict[01],comb_dict[10]] + invmat[comb_dict[02],comb_dict[20]] +\n",
    "        invmat[comb_dict[03],comb_dict[30]] + invmat[comb_dict[10],comb_dict[01]] + invmat[comb_dict[12],comb_dict[21]] +\n",
    "        invmat[comb_dict[13],comb_dict[31]] + invmat[comb_dict[20],comb_dict[02]] + invmat[comb_dict[21],comb_dict[12]] +\n",
    "        invmat[comb_dict[23],comb_dict[32]] + invmat[comb_dict[30],comb_dict[03]] + invmat[comb_dict[31],comb_dict[13]] +\n",
    "        invmat[comb_dict[32],comb_dict[23]])\n",
    "\n",
    "    num_ijij = (invmat[comb_dict[01],comb_dict[01]] + invmat[comb_dict[02],comb_dict[02]] +\n",
    "        invmat[comb_dict[03],comb_dict[03]] + invmat[comb_dict[10],comb_dict[10]] + invmat[comb_dict[12],comb_dict[12]] +\n",
    "        invmat[comb_dict[13],comb_dict[13]] + invmat[comb_dict[20],comb_dict[20]] + invmat[comb_dict[21],comb_dict[21]] +\n",
    "        invmat[comb_dict[23],comb_dict[23]] + invmat[comb_dict[30],comb_dict[30]] + invmat[comb_dict[31],comb_dict[31]] +\n",
    "        invmat[comb_dict[32],comb_dict[32]])\n",
    "    [num_iijj,num_ijji,num_ijij]\n",
    "    N = sum(map(sum, invmat))\n",
    "\n",
    "    # calculate probability, add .05 to counts in case some of them are 0\n",
    "    p_iijj = (num_iijj + .05)/N\n",
    "    p_ijji = (num_ijji + .05)/N\n",
    "    p_ijij = (num_ijij + .05)/N\n",
    "\n",
    "    f1 = p_iijj - p_ijij\n",
    "    f2 = p_ijji - p_ijij\n",
    "    if not(f2):\n",
    "        f2 = f2 + .000001\n",
    "    rat_f1_f2 = f1/f2\n",
    "\n",
    "    var_f1 = (1/N) * ( p_iijj*(1-p_iijj) + p_ijij*(1-p_ijij) + 2*p_iijj*p_ijij )\n",
    "    var_f2 = (1/N) * ( p_ijji*(1-p_ijji) + p_ijij*(1-p_ijij) + 2*p_ijji*p_ijij )\n",
    "\n",
    "    cov_f1_f2 = (1/N) * ( -p_iijj*p_ijji + p_iijj*p_ijij + p_ijji*p_ijij + p_ijij*(1-p_ijij))\n",
    "\n",
    "    H = (f2 * rat_f1_f2) / math.sqrt( var_f2*(rat_f1_f2**2) - 2*cov_f1_f2*rat_f1_f2 + var_f1 )\n",
    "    return H;\n",
    "def calcp(z):\n",
    "    p = st.norm.sf(z)*2\n",
    "    return p;"
   ]
  },
  {
   "cell_type": "code",
   "execution_count": 160,
   "metadata": {
    "collapsed": true
   },
   "outputs": [],
   "source": [
    "# perform only on winning quartet\n",
    "hils = []\n",
    "pvals = []\n",
    "for i in range(len(all_matrices)):\n",
    "    fullmat0123 = all_matrices[all_matrices.keys()[i]]['0123']\n",
    "    fullmat0213 = all_matrices[all_matrices.keys()[i]]['0213']\n",
    "    fullmat0312 = all_matrices[all_matrices.keys()[i]]['0312']\n",
    "    # get the scores\n",
    "    scores = [math.sqrt(np.sum(np.square(np.linalg.svd(fullmat0123)[1][10:15]))),math.sqrt(np.sum(np.square(np.linalg.svd(fullmat0213)[1][10:15]))),math.sqrt(np.sum(np.square(np.linalg.svd(fullmat0312)[1][10:15])))]\n",
    "    scores\n",
    "    # get index of minimum score, via <https://stackoverflow.com/questions/2474015/getting-the-index-of-the-returned-max-or-min-item-using-max-min-on-a-list>\n",
    "    min_index, min_value = min(enumerate(scores), key=itemgetter(1))\n",
    "    # get winning matrix\n",
    "    winning_mat = all_matrices[all_matrices.keys()[i]][['0123','0213','0312'][min_index]]\n",
    "    hils_temp = calcHils(winning_mat)\n",
    "    hils.append(hils_temp)\n",
    "    pvals.append(calcp(hils_temp))\n",
    "\n"
   ]
  },
  {
   "cell_type": "code",
   "execution_count": 231,
   "metadata": {
    "collapsed": true
   },
   "outputs": [],
   "source": [
    "#perform on all quartets\n",
    "hils = []\n",
    "pvals = []\n",
    "for i in range(len(all_matrices)):\n",
    "    fullmat0123 = all_matrices[all_matrices.keys()[i]]['0123']\n",
    "    fullmat0213 = all_matrices[all_matrices.keys()[i]]['0213']\n",
    "    fullmat0312 = all_matrices[all_matrices.keys()[i]]['0312']\n",
    "    for p in [0,1,2]:\n",
    "        curmat = all_matrices[all_matrices.keys()[i]][['0123','0213','0312'][p]]\n",
    "        hils_temp = calcHils(curmat)\n",
    "        hils.append(hils_temp)\n",
    "        pvals.append(calcp(hils_temp))"
   ]
  },
  {
   "cell_type": "code",
   "execution_count": 175,
   "metadata": {},
   "outputs": [
    {
     "data": {
      "text/plain": [
       "u'0_1_4_8'"
      ]
     },
     "execution_count": 175,
     "metadata": {},
     "output_type": "execute_result"
    }
   ],
   "source": [
    "all_matrices"
   ]
  },
  {
   "cell_type": "code",
   "execution_count": 176,
   "metadata": {
    "collapsed": true
   },
   "outputs": [],
   "source": [
    "    fname = \"analysis-ipyrad/min4_outfiles/min4.snps.phy\"\n",
    "    with open(fname) as f:\n",
    "        snps = f.readlines()\n",
    "    # remove whitespace characters like `\\n` at the end of each line\n",
    "    snps = [x.strip() for x in snps] \n",
    "    snps.pop(0)\n",
    "    \n",
    "    #read in map\n",
    "    fname = \"analysis-ipyrad/min4_outfiles/min4.snps.map\"\n",
    "    with open(fname) as f:\n",
    "        snpmap = f.readlines()\n",
    "    # remove whitespace characters like `\\n` at the end of each line\n",
    "    snpmap = [x.strip() for x in snpmap] \n",
    "    snpmap = [i.split('\\t') for i in snpmap]\n",
    "    snpmap = np.array(snpmap)\n",
    "    # get rid of inner column, convert to int\n",
    "    reducedmap = snpmap[:,[0,2,3]].astype(int)\n",
    "    \n",
    "    # save names by themselves and make list of corresponding integers\n",
    "    names = [snps[i][0:27].replace(\" \", \"\") for i in range(len(snps))]"
   ]
  },
  {
   "cell_type": "code",
   "execution_count": 229,
   "metadata": {},
   "outputs": [
    {
     "data": {
      "text/plain": [
       "[u'0_1_4_8']"
      ]
     },
     "execution_count": 229,
     "metadata": {},
     "output_type": "execute_result"
    }
   ],
   "source": [
    "fil = [set(str(all_matrices.keys()[i]).split('_')[1:4]) == set(['1','4','8']) for i in range(len(all_matrices))]\n",
    "list(compress(all_matrices.keys(),fil))"
   ]
  },
  {
   "cell_type": "code",
   "execution_count": 228,
   "metadata": {},
   "outputs": [
    {
     "data": {
      "text/plain": [
       "{'1', '4', '8'}"
      ]
     },
     "execution_count": 228,
     "metadata": {},
     "output_type": "execute_result"
    }
   ],
   "source": []
  }
 ],
 "metadata": {
  "kernelspec": {
   "display_name": "Python 2",
   "language": "python",
   "name": "python2"
  },
  "language_info": {
   "codemirror_mode": {
    "name": "ipython",
    "version": 2
   },
   "file_extension": ".py",
   "mimetype": "text/x-python",
   "name": "python",
   "nbconvert_exporter": "python",
   "pygments_lexer": "ipython2",
   "version": "2.7.13"
  }
 },
 "nbformat": 4,
 "nbformat_minor": 2
}
