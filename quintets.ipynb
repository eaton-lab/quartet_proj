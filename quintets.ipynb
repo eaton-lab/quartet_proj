{
 "cells": [
  {
   "cell_type": "markdown",
   "metadata": {},
   "source": [
    "## Imports"
   ]
  },
  {
   "cell_type": "code",
   "execution_count": 277,
   "metadata": {
    "collapsed": true
   },
   "outputs": [],
   "source": [
    "import h5py\n",
    "import math\n",
    "import numpy as np\n",
    "from operator import itemgetter\n",
    "import scipy.stats as st\n",
    "from itertools import compress\n",
    "import re\n",
    "import random\n",
    "import itertools\n",
    "import sys"
   ]
  },
  {
   "cell_type": "markdown",
   "metadata": {},
   "source": [
    "## Read in seqence data, organize it"
   ]
  },
  {
   "cell_type": "code",
   "execution_count": 278,
   "metadata": {
    "collapsed": true
   },
   "outputs": [],
   "source": [
    "fname = \"analysis-ipyrad/min4_outfiles/min4.snps.phy\"\n",
    "with open(fname) as f:\n",
    "    snps = f.readlines()\n",
    "# remove whitespace characters like `\\n` at the end of each line\n",
    "snps = [x.strip() for x in snps] \n",
    "snps.pop(0)\n",
    "\n",
    "#read in map\n",
    "fname = \"analysis-ipyrad/min4_outfiles/min4.snps.map\"\n",
    "with open(fname) as f:\n",
    "    snpmap = f.readlines()\n",
    "# remove whitespace characters like `\\n` at the end of each line\n",
    "snpmap = [x.strip() for x in snpmap] \n",
    "snpmap = [i.split('\\t') for i in snpmap]\n",
    "snpmap = np.array(snpmap)\n",
    "# get rid of inner column, convert to int\n",
    "reducedmap = snpmap[:,[0,2,3]].astype(int)\n",
    "\n",
    "# save names by themselves and make list of corresponding integers\n",
    "names = [snps[i][0:27].replace(\" \", \"\") for i in range(len(snps))]\n",
    "namevals = range(len(names))\n",
    "#namealias = dict(zip(namevals, names))\n",
    "\n",
    "# make snp seq object without names\n",
    "full_snp_seqs = [snps[i][27:] for i in range(len(snps))]"
   ]
  },
  {
   "cell_type": "code",
   "execution_count": 279,
   "metadata": {},
   "outputs": [
    {
     "data": {
      "text/plain": [
       "['29154_superba',\n",
       " '30556_thamno',\n",
       " '30686_cyathophylla',\n",
       " '32082_przewalskii',\n",
       " '33413_thamno',\n",
       " '33588_przewalskii',\n",
       " '35236_rex',\n",
       " '35855_rex',\n",
       " '38362_rex',\n",
       " '39618_rex',\n",
       " '40578_rex',\n",
       " '41478_cyathophylloides',\n",
       " '41954_cyathophylloides']"
      ]
     },
     "execution_count": 279,
     "metadata": {},
     "output_type": "execute_result"
    }
   ],
   "source": [
    "names"
   ]
  },
  {
   "cell_type": "code",
   "execution_count": 20,
   "metadata": {},
   "outputs": [],
   "source": [
    "taxa_ids = [0,2,4,6,12]\n",
    "fivetaxa = [names[i] for i in taxa_ids]"
   ]
  },
  {
   "cell_type": "code",
   "execution_count": 165,
   "metadata": {},
   "outputs": [
    {
     "data": {
      "text/plain": [
       "['29154_superba',\n",
       " '30686_cyathophylla',\n",
       " '33413_thamno',\n",
       " '35236_rex',\n",
       " '41954_cyathophylloides']"
      ]
     },
     "execution_count": 165,
     "metadata": {},
     "output_type": "execute_result"
    }
   ],
   "source": [
    "fivetaxa\n",
    "#12_0_2_4_6"
   ]
  },
  {
   "cell_type": "code",
   "execution_count": 26,
   "metadata": {},
   "outputs": [],
   "source": [
    "tempobj = [full_snp_seqs[i] for i in taxa_ids]"
   ]
  },
  {
   "cell_type": "code",
   "execution_count": 151,
   "metadata": {},
   "outputs": [],
   "source": [
    "# get sampled snp from each locus for a list of sequences (tempobj), given reduced snp map\n",
    "tempobj = [full_snp_seqs[i] for i in taxa_ids]\n",
    "ind_samples = []\n",
    "for p in range(int(snpmap[:,0][-1])):\n",
    "    index = p+1\n",
    "    which_bases = reducedmap[(reducedmap[:,0] == index),2]\n",
    "    snps_at_locus = [tempobj[i][(which_bases[0]-1):which_bases[-1]] for i in range(len(tempobj))]\n",
    "    sample_indices = []\n",
    "    for i in range(len(snps_at_locus[0])):\n",
    "        if ((len(set([snps_at_locus[q][i] for q in range(len(snps_at_locus))]).intersection(['A','G','C','T'])) > 1) & (sum([[snps_at_locus[q][i] for q in range(len(snps_at_locus))][k] in ['A','G','C','T'] for k in range(len(tempobj))]) == len(tempobj))):\n",
    "            sample_indices.append(i)\n",
    "    if (len(sample_indices) > 0):\n",
    "        randombase = int(np.random.choice(sample_indices,1))\n",
    "        selectedbases = [snps_at_locus[i][randombase] for i in range(len(snps_at_locus))]\n",
    "        ind_samples.append(selectedbases)\n",
    "ind_samples_reset = ind_samples"
   ]
  },
  {
   "cell_type": "code",
   "execution_count": 89,
   "metadata": {},
   "outputs": [],
   "source": [
    "ind_samples = np.array(ind_samples_reset)\n",
    "ind_samples = np.where(ind_samples=='A',0,ind_samples)\n",
    "ind_samples = np.where(ind_samples=='C',1,ind_samples)\n",
    "ind_samples = np.where(ind_samples=='G',2,ind_samples)\n",
    "ind_samples = np.where(ind_samples=='T',3,ind_samples)\n",
    "ind_samples = ind_samples.astype(int)\n",
    "\n",
    "\n",
    "Asamples = np.array([ind_samples[i] for i in range(len(ind_samples)) if ind_samples[i][0] == 0])[:,[1,2,3,4]]\n",
    "Csamples = np.array([ind_samples[i] for i in range(len(ind_samples)) if ind_samples[i][0] == 1])[:,[1,2,3,4]]\n",
    "Gsamples = np.array([ind_samples[i] for i in range(len(ind_samples)) if ind_samples[i][0] == 2])[:,[1,2,3,4]]\n",
    "Tsamples = np.array([ind_samples[i] for i in range(len(ind_samples)) if ind_samples[i][0] == 3])[:,[1,2,3,4]]"
   ]
  },
  {
   "cell_type": "markdown",
   "metadata": {},
   "source": [
    "## Generate quintet matrices\n",
    "\n",
    "This takes every quintet arrangement and generates a standard quartet matrix for each quintet where the lone quintet taxon takes either A, C, G, or T."
   ]
  },
  {
   "cell_type": "code",
   "execution_count": 226,
   "metadata": {},
   "outputs": [],
   "source": [
    "allmats = []\n",
    "info = []\n",
    "reshuffle_fifth = [[0,1,2,3,4],[1,0,2,3,4],[2,0,1,3,4],[3,0,1,2,4],[4,0,1,2,3]]\n",
    "\n",
    "for w in range(len(reshuffle_fifth)):\n",
    "\n",
    "    current_taxa_ids = [taxa_ids[i] for i in reshuffle_fifth[w]]\n",
    "\n",
    "    ind_samples = np.array(ind_samples_reset)[:,reshuffle_fifth[w]]\n",
    "    ind_samples = np.where(ind_samples=='A',0,ind_samples)\n",
    "    ind_samples = np.where(ind_samples=='C',1,ind_samples)\n",
    "    ind_samples = np.where(ind_samples=='G',2,ind_samples)\n",
    "    ind_samples = np.where(ind_samples=='T',3,ind_samples)\n",
    "    ind_samples = ind_samples.astype(int)\n",
    "\n",
    "\n",
    "    Asamples = np.array([ind_samples[i] for i in range(len(ind_samples)) if ind_samples[i][0] == 0])[:,[1,2,3,4]]\n",
    "    Csamples = np.array([ind_samples[i] for i in range(len(ind_samples)) if ind_samples[i][0] == 1])[:,[1,2,3,4]]\n",
    "    Gsamples = np.array([ind_samples[i] for i in range(len(ind_samples)) if ind_samples[i][0] == 2])[:,[1,2,3,4]]\n",
    "    Tsamples = np.array([ind_samples[i] for i in range(len(ind_samples)) if ind_samples[i][0] == 3])[:,[1,2,3,4]]\n",
    "\n",
    "    snparrays = [Asamples,Csamples,Gsamples,Tsamples]\n",
    "    for q in range(len(snparrays)):\n",
    "        for p in [[0,1,2,3],[0,2,1,3],[0,3,1,2]]:\n",
    "            indexmat = np.array(range(16))\n",
    "            indexmat.shape=(4,4)\n",
    "            # order across matrix is 00,01,02,03,10,11,12,13,20,21,22,23,30,31,32,33\n",
    "            fullmat0123 = np.zeros(shape=(16,16))\n",
    "            arr0123 = snparrays[q][:,p]\n",
    "            for i in range(len(arr0123)):\n",
    "                        # get row number \n",
    "                rownum = int(indexmat[arr0123[i][0],arr0123[i][1]])\n",
    "                        # get col number\n",
    "                colnum = int(indexmat[arr0123[i][2],arr0123[i][3]])\n",
    "                fullmat0123[rownum,colnum] = fullmat0123[rownum,colnum] + 1\n",
    "            allmats.append(fullmat0123)\n",
    "            info.append([current_taxa_ids,q,np.array(current_taxa_ids[1:5])[p]])\n"
   ]
  },
  {
   "cell_type": "code",
   "execution_count": 221,
   "metadata": {},
   "outputs": [
    {
     "data": {
      "text/plain": [
       "array([[2, 2, 2, 1, 2],\n",
       "       [3, 3, 3, 1, 3],\n",
       "       [3, 1, 3, 3, 3],\n",
       "       ..., \n",
       "       [0, 0, 2, 2, 2],\n",
       "       [0, 2, 2, 2, 2],\n",
       "       [2, 2, 0, 2, 2]])"
      ]
     },
     "execution_count": 221,
     "metadata": {},
     "output_type": "execute_result"
    }
   ],
   "source": [
    "ind_samples[:,reshuffle_fifth[]]"
   ]
  },
  {
   "cell_type": "code",
   "execution_count": 164,
   "metadata": {},
   "outputs": [
    {
     "name": "stdout",
     "output_type": "stream",
     "text": [
      "[[0, 2, 4, 6, 12], 0, array([ 2,  4,  6, 12])]\n",
      "[[  0  36 124  63  33   2   0   0  90   0   1   1  43   0   0   0]\n",
      " [ 33   0   0   0  38  18   0   1   0   0   0   0   0   1   0   0]\n",
      " [ 88   0   2   0   1   0   0   0 116   0  45   2   0   0   0   0]\n",
      " [ 41   0   1   2   0   0   0   0   0   0   0   0  49   0   0  13]\n",
      " [ 26   3   0   0   0   1   0   0   0   0   0   0   0   0   0   0]\n",
      " [  0   0   0   0   2  68   1   2   0   0   0   0   0   1   0   0]\n",
      " [  0   0   0   0   0   0   0   0   0   0   0   0   0   0   0   0]\n",
      " [  0   0   0   0   0   0   0   0   0   0   0   0   0   1   1   0]\n",
      " [101   0  12   0   0   0   0   0   1   0   0   0   0   0   0   0]\n",
      " [  0   0   0   0   0   1   0   0   0   0   0   0   0   0   0   0]\n",
      " [  0   0   0   0   0   0   0   0  12   0 142   1   0   0   0   0]\n",
      " [  1   0   0   0   0   0   0   0   0   0   0   0   1   0   1   0]\n",
      " [ 38   0   1   4   0   0   0   1   0   0   0   0   2   0   0   0]\n",
      " [  0   0   0   0   0   0   0   0   0   0   0   0   0   0   0   0]\n",
      " [  1   0   0   0   0   0   0   0   0   0   0   0   0   0   0   0]\n",
      " [  0   0   0   0   0   0   0   0   0   0   0   0   3   0   0  39]]\n"
     ]
    }
   ],
   "source": [
    "print(info[0])\n",
    "print(allmats[0].astype(int))"
   ]
  },
  {
   "cell_type": "code",
   "execution_count": 227,
   "metadata": {},
   "outputs": [
    {
     "data": {
      "text/plain": [
       "[[[0, 2, 4, 6, 12], 0, array([ 2,  4,  6, 12])],\n",
       " [[0, 2, 4, 6, 12], 0, array([ 2,  6,  4, 12])],\n",
       " [[0, 2, 4, 6, 12], 0, array([ 2, 12,  4,  6])],\n",
       " [[0, 2, 4, 6, 12], 1, array([ 2,  4,  6, 12])],\n",
       " [[0, 2, 4, 6, 12], 1, array([ 2,  6,  4, 12])],\n",
       " [[0, 2, 4, 6, 12], 1, array([ 2, 12,  4,  6])],\n",
       " [[0, 2, 4, 6, 12], 2, array([ 2,  4,  6, 12])],\n",
       " [[0, 2, 4, 6, 12], 2, array([ 2,  6,  4, 12])],\n",
       " [[0, 2, 4, 6, 12], 2, array([ 2, 12,  4,  6])],\n",
       " [[0, 2, 4, 6, 12], 3, array([ 2,  4,  6, 12])],\n",
       " [[0, 2, 4, 6, 12], 3, array([ 2,  6,  4, 12])],\n",
       " [[0, 2, 4, 6, 12], 3, array([ 2, 12,  4,  6])],\n",
       " [[2, 0, 4, 6, 12], 0, array([ 0,  4,  6, 12])],\n",
       " [[2, 0, 4, 6, 12], 0, array([ 0,  6,  4, 12])],\n",
       " [[2, 0, 4, 6, 12], 0, array([ 0, 12,  4,  6])],\n",
       " [[2, 0, 4, 6, 12], 1, array([ 0,  4,  6, 12])],\n",
       " [[2, 0, 4, 6, 12], 1, array([ 0,  6,  4, 12])],\n",
       " [[2, 0, 4, 6, 12], 1, array([ 0, 12,  4,  6])],\n",
       " [[2, 0, 4, 6, 12], 2, array([ 0,  4,  6, 12])],\n",
       " [[2, 0, 4, 6, 12], 2, array([ 0,  6,  4, 12])],\n",
       " [[2, 0, 4, 6, 12], 2, array([ 0, 12,  4,  6])],\n",
       " [[2, 0, 4, 6, 12], 3, array([ 0,  4,  6, 12])],\n",
       " [[2, 0, 4, 6, 12], 3, array([ 0,  6,  4, 12])],\n",
       " [[2, 0, 4, 6, 12], 3, array([ 0, 12,  4,  6])],\n",
       " [[4, 0, 2, 6, 12], 0, array([ 0,  2,  6, 12])],\n",
       " [[4, 0, 2, 6, 12], 0, array([ 0,  6,  2, 12])],\n",
       " [[4, 0, 2, 6, 12], 0, array([ 0, 12,  2,  6])],\n",
       " [[4, 0, 2, 6, 12], 1, array([ 0,  2,  6, 12])],\n",
       " [[4, 0, 2, 6, 12], 1, array([ 0,  6,  2, 12])],\n",
       " [[4, 0, 2, 6, 12], 1, array([ 0, 12,  2,  6])],\n",
       " [[4, 0, 2, 6, 12], 2, array([ 0,  2,  6, 12])],\n",
       " [[4, 0, 2, 6, 12], 2, array([ 0,  6,  2, 12])],\n",
       " [[4, 0, 2, 6, 12], 2, array([ 0, 12,  2,  6])],\n",
       " [[4, 0, 2, 6, 12], 3, array([ 0,  2,  6, 12])],\n",
       " [[4, 0, 2, 6, 12], 3, array([ 0,  6,  2, 12])],\n",
       " [[4, 0, 2, 6, 12], 3, array([ 0, 12,  2,  6])],\n",
       " [[6, 0, 2, 4, 12], 0, array([ 0,  2,  4, 12])],\n",
       " [[6, 0, 2, 4, 12], 0, array([ 0,  4,  2, 12])],\n",
       " [[6, 0, 2, 4, 12], 0, array([ 0, 12,  2,  4])],\n",
       " [[6, 0, 2, 4, 12], 1, array([ 0,  2,  4, 12])],\n",
       " [[6, 0, 2, 4, 12], 1, array([ 0,  4,  2, 12])],\n",
       " [[6, 0, 2, 4, 12], 1, array([ 0, 12,  2,  4])],\n",
       " [[6, 0, 2, 4, 12], 2, array([ 0,  2,  4, 12])],\n",
       " [[6, 0, 2, 4, 12], 2, array([ 0,  4,  2, 12])],\n",
       " [[6, 0, 2, 4, 12], 2, array([ 0, 12,  2,  4])],\n",
       " [[6, 0, 2, 4, 12], 3, array([ 0,  2,  4, 12])],\n",
       " [[6, 0, 2, 4, 12], 3, array([ 0,  4,  2, 12])],\n",
       " [[6, 0, 2, 4, 12], 3, array([ 0, 12,  2,  4])],\n",
       " [[12, 0, 2, 4, 6], 0, array([0, 2, 4, 6])],\n",
       " [[12, 0, 2, 4, 6], 0, array([0, 4, 2, 6])],\n",
       " [[12, 0, 2, 4, 6], 0, array([0, 6, 2, 4])],\n",
       " [[12, 0, 2, 4, 6], 1, array([0, 2, 4, 6])],\n",
       " [[12, 0, 2, 4, 6], 1, array([0, 4, 2, 6])],\n",
       " [[12, 0, 2, 4, 6], 1, array([0, 6, 2, 4])],\n",
       " [[12, 0, 2, 4, 6], 2, array([0, 2, 4, 6])],\n",
       " [[12, 0, 2, 4, 6], 2, array([0, 4, 2, 6])],\n",
       " [[12, 0, 2, 4, 6], 2, array([0, 6, 2, 4])],\n",
       " [[12, 0, 2, 4, 6], 3, array([0, 2, 4, 6])],\n",
       " [[12, 0, 2, 4, 6], 3, array([0, 4, 2, 6])],\n",
       " [[12, 0, 2, 4, 6], 3, array([0, 6, 2, 4])]]"
      ]
     },
     "execution_count": 227,
     "metadata": {},
     "output_type": "execute_result"
    }
   ],
   "source": [
    "info"
   ]
  },
  {
   "cell_type": "code",
   "execution_count": 229,
   "metadata": {},
   "outputs": [
    {
     "data": {
      "text/plain": [
       "5589.0"
      ]
     },
     "execution_count": 229,
     "metadata": {},
     "output_type": "execute_result"
    }
   ],
   "source": [
    "# 57, 54, 51, 48 are true configs\n",
    "sum(sum(allmats[57] + allmats[54] + allmats[51] + allmats[48]))"
   ]
  },
  {
   "cell_type": "code",
   "execution_count": 239,
   "metadata": {},
   "outputs": [
    {
     "data": {
      "text/plain": [
       "5589.0"
      ]
     },
     "execution_count": 239,
     "metadata": {},
     "output_type": "execute_result"
    }
   ],
   "source": [
    "sum(sum(allmats[58] + allmats[55] + allmats[52] + allmats[49]))"
   ]
  },
  {
   "cell_type": "code",
   "execution_count": 238,
   "metadata": {},
   "outputs": [
    {
     "data": {
      "text/plain": [
       "5589.0"
      ]
     },
     "execution_count": 238,
     "metadata": {},
     "output_type": "execute_result"
    }
   ],
   "source": [
    "sum(sum(allmats[45] + allmats[42] + allmats[39] + allmats[36]))"
   ]
  },
  {
   "cell_type": "code",
   "execution_count": 205,
   "metadata": {},
   "outputs": [
    {
     "data": {
      "text/plain": [
       "1.4143611334878379"
      ]
     },
     "execution_count": 205,
     "metadata": {},
     "output_type": "execute_result"
    }
   ],
   "source": [
    "math.sqrt(np.sum(np.square(np.linalg.svd(allmats[57])[1][10:15])))"
   ]
  },
  {
   "cell_type": "code",
   "execution_count": 241,
   "metadata": {},
   "outputs": [
    {
     "data": {
      "text/plain": [
       "[1.7320921829917224,\n",
       " 1.7321343096335553,\n",
       " 0.015677839488573025,\n",
       " 1.7221593457235986,\n",
       " 1.7232261592208047,\n",
       " 0.035684433709404335,\n",
       " 0.00012072328131176196,\n",
       " 0.01177764544159291,\n",
       " 0.016814304722510654,\n",
       " 1.4143611334878379,\n",
       " 1.4144046946387008,\n",
       " 0.0347707504542551,\n",
       " 0.9993054332650212,\n",
       " 0.9994424312829834,\n",
       " 0.0011637667783448854,\n",
       " 0.156579913188151,\n",
       " 0.15101072833279816,\n",
       " 0.024156781336025227,\n",
       " 1.0008157657997336,\n",
       " 1.0006507827546314,\n",
       " 7.097372254211233e-15,\n",
       " 1.4095374505869671,\n",
       " 0.9998696263717481,\n",
       " 0.06202794632802843,\n",
       " 0.0744512764822138,\n",
       " 0.2750822134166317,\n",
       " 0.8245842867838327,\n",
       " 0.00011514335777699925,\n",
       " 0.04080083479513208,\n",
       " 0.030167812939555855,\n",
       " 0.009867092655924396,\n",
       " 0.1730820462507168,\n",
       " 0.11382751486828117,\n",
       " 0.019737589691062027,\n",
       " 0.03749094882069752,\n",
       " 0.041805753928708146,\n",
       " 0.01545715592691087,\n",
       " 0.23039635948486478,\n",
       " 0.09377886816603721,\n",
       " 0.054905721694836394,\n",
       " 0.007037149510397565,\n",
       " 0.6998464143715751,\n",
       " 0.008857773547582269,\n",
       " 0.010971601562657793,\n",
       " 0.00038108664226244266,\n",
       " 0.017181263794621624,\n",
       " 0.2405501911588861,\n",
       " 0.23608959806040028,\n",
       " 0.009089401010708643,\n",
       " 2.986256991057991,\n",
       " 2.9896810318346687,\n",
       " 1.4684396886112975e-14,\n",
       " 0.009505960398885262,\n",
       " 0.014676380355954116,\n",
       " 0.03117098754475601,\n",
       " 3.161622309732647,\n",
       " 3.16157906772301,\n",
       " 0.008047721955075308,\n",
       " 3.161989053665627,\n",
       " 3.1645567098495264]"
      ]
     },
     "execution_count": 241,
     "metadata": {},
     "output_type": "execute_result"
    }
   ],
   "source": [
    "[math.sqrt(np.sum(np.square(np.linalg.svd(allmats[i])[1][10:15]))) for i in range(60)]"
   ]
  },
  {
   "cell_type": "code",
   "execution_count": 271,
   "metadata": {},
   "outputs": [
    {
     "name": "stdout",
     "output_type": "stream",
     "text": [
      "1.02377553722\n",
      "1.01846504444\n",
      "94.7113086697\n",
      "0.908049757783\n",
      "1.1595105378\n",
      "76.9012926263\n",
      "14.7530493538\n",
      "2.11709312663\n",
      "0.624145167891\n",
      "15.7574802277\n",
      "2.30388724337\n",
      "0.568255031858\n",
      "386.060794088\n",
      "1.00637671408\n",
      "1.00398577383\n"
     ]
    }
   ],
   "source": [
    "testing = [math.sqrt(np.sum(np.square(np.linalg.svd(allmats[i])[1][10:15]))) for i in range(60)][0:12]\n",
    "print(sum([testing[i] for i in [1,2,4,5,7,8,10,11]])/sum([testing[i] for i in [0,3,6,9]]))\n",
    "print(sum([testing[i] for i in [0,2,3,5,6,8,9,11]])/sum([testing[i] for i in [1,4,7,10]]))\n",
    "print(sum([testing[i] for i in [0,1,3,4,6,7,9,10]])/sum([testing[i] for i in [2,5,8,11]]))\n",
    "testing = [math.sqrt(np.sum(np.square(np.linalg.svd(allmats[i])[1][10:15]))) for i in range(60)][12:24]\n",
    "print(sum([testing[i] for i in [1,2,4,5,7,8,10,11]])/sum([testing[i] for i in [0,3,6,9]]))\n",
    "print(sum([testing[i] for i in [0,2,3,5,6,8,9,11]])/sum([testing[i] for i in [1,4,7,10]]))\n",
    "print(sum([testing[i] for i in [0,1,3,4,6,7,9,10]])/sum([testing[i] for i in [2,5,8,11]]))\n",
    "testing = [math.sqrt(np.sum(np.square(np.linalg.svd(allmats[i])[1][10:15]))) for i in range(60)][24:36]\n",
    "print(sum([testing[i] for i in [1,2,4,5,7,8,10,11]])/sum([testing[i] for i in [0,3,6,9]]))\n",
    "print(sum([testing[i] for i in [0,2,3,5,6,8,9,11]])/sum([testing[i] for i in [1,4,7,10]]))\n",
    "print(sum([testing[i] for i in [0,1,3,4,6,7,9,10]])/sum([testing[i] for i in [2,5,8,11]]))\n",
    "testing = [math.sqrt(np.sum(np.square(np.linalg.svd(allmats[i])[1][10:15]))) for i in range(60)][36:48]\n",
    "print(sum([testing[i] for i in [1,2,4,5,7,8,10,11]])/sum([testing[i] for i in [0,3,6,9]]))\n",
    "print(sum([testing[i] for i in [0,2,3,5,6,8,9,11]])/sum([testing[i] for i in [1,4,7,10]]))\n",
    "print(sum([testing[i] for i in [0,1,3,4,6,7,9,10]])/sum([testing[i] for i in [2,5,8,11]]))\n",
    "testing = [math.sqrt(np.sum(np.square(np.linalg.svd(allmats[i])[1][10:15]))) for i in range(60)][48:60]\n",
    "print(sum([testing[i] for i in [1,2,4,5,7,8,10,11]])/sum([testing[i] for i in [0,3,6,9]]))\n",
    "print(sum([testing[i] for i in [0,2,3,5,6,8,9,11]])/sum([testing[i] for i in [1,4,7,10]]))\n",
    "print(sum([testing[i] for i in [0,1,3,4,6,7,9,10]])/sum([testing[i] for i in [2,5,8,11]]))"
   ]
  },
  {
   "cell_type": "code",
   "execution_count": 276,
   "metadata": {},
   "outputs": [
    {
     "name": "stdout",
     "output_type": "stream",
     "text": [
      "[1.0237755372208388, 1.0184650444444696, 94.71130866967927]\n",
      "[0.9080497577834, 1.15951053779888, 76.90129262629839]\n",
      "[14.753049353793648, 2.117093126629455, 0.62414516789139]\n",
      "[15.757480227702116, 2.3038872433715274, 0.5682550318578424]\n",
      "[386.06079408847046, 1.006376714080884, 1.0039857738327647]\n"
     ]
    }
   ],
   "source": [
    "testing = [math.sqrt(np.sum(np.square(np.linalg.svd(allmats[i])[1][10:15]))) for i in range(60)][0:12]\n",
    "print([sum([testing[i] for i in [1,2,4,5,7,8,10,11]])/sum([testing[i] for i in [0,3,6,9]]),\n",
    " sum([testing[i] for i in [0,2,3,5,6,8,9,11]])/sum([testing[i] for i in [1,4,7,10]]),\n",
    " sum([testing[i] for i in [0,1,3,4,6,7,9,10]])/sum([testing[i] for i in [2,5,8,11]])])\n",
    "testing = [math.sqrt(np.sum(np.square(np.linalg.svd(allmats[i])[1][10:15]))) for i in range(60)][12:24]\n",
    "print([sum([testing[i] for i in [1,2,4,5,7,8,10,11]])/sum([testing[i] for i in [0,3,6,9]]),\n",
    " sum([testing[i] for i in [0,2,3,5,6,8,9,11]])/sum([testing[i] for i in [1,4,7,10]]),\n",
    " sum([testing[i] for i in [0,1,3,4,6,7,9,10]])/sum([testing[i] for i in [2,5,8,11]])])\n",
    "testing = [math.sqrt(np.sum(np.square(np.linalg.svd(allmats[i])[1][10:15]))) for i in range(60)][24:36]\n",
    "print([sum([testing[i] for i in [1,2,4,5,7,8,10,11]])/sum([testing[i] for i in [0,3,6,9]]),\n",
    " sum([testing[i] for i in [0,2,3,5,6,8,9,11]])/sum([testing[i] for i in [1,4,7,10]]),\n",
    " sum([testing[i] for i in [0,1,3,4,6,7,9,10]])/sum([testing[i] for i in [2,5,8,11]])])\n",
    "testing = [math.sqrt(np.sum(np.square(np.linalg.svd(allmats[i])[1][10:15]))) for i in range(60)][36:48]\n",
    "print([sum([testing[i] for i in [1,2,4,5,7,8,10,11]])/sum([testing[i] for i in [0,3,6,9]]),\n",
    " sum([testing[i] for i in [0,2,3,5,6,8,9,11]])/sum([testing[i] for i in [1,4,7,10]]),\n",
    " sum([testing[i] for i in [0,1,3,4,6,7,9,10]])/sum([testing[i] for i in [2,5,8,11]])])\n",
    "testing = [math.sqrt(np.sum(np.square(np.linalg.svd(allmats[i])[1][10:15]))) for i in range(60)][48:60]\n",
    "print([sum([testing[i] for i in [1,2,4,5,7,8,10,11]])/sum([testing[i] for i in [0,3,6,9]]),\n",
    " sum([testing[i] for i in [0,2,3,5,6,8,9,11]])/sum([testing[i] for i in [1,4,7,10]]),\n",
    " sum([testing[i] for i in [0,1,3,4,6,7,9,10]])/sum([testing[i] for i in [2,5,8,11]])])"
   ]
  },
  {
   "cell_type": "code",
   "execution_count": 272,
   "metadata": {},
   "outputs": [
    {
     "data": {
      "text/plain": [
       "[[[0, 2, 4, 6, 12], 0, array([ 2,  4,  6, 12])],\n",
       " [[0, 2, 4, 6, 12], 0, array([ 2,  6,  4, 12])],\n",
       " [[0, 2, 4, 6, 12], 0, array([ 2, 12,  4,  6])],\n",
       " [[0, 2, 4, 6, 12], 1, array([ 2,  4,  6, 12])],\n",
       " [[0, 2, 4, 6, 12], 1, array([ 2,  6,  4, 12])],\n",
       " [[0, 2, 4, 6, 12], 1, array([ 2, 12,  4,  6])],\n",
       " [[0, 2, 4, 6, 12], 2, array([ 2,  4,  6, 12])],\n",
       " [[0, 2, 4, 6, 12], 2, array([ 2,  6,  4, 12])],\n",
       " [[0, 2, 4, 6, 12], 2, array([ 2, 12,  4,  6])],\n",
       " [[0, 2, 4, 6, 12], 3, array([ 2,  4,  6, 12])],\n",
       " [[0, 2, 4, 6, 12], 3, array([ 2,  6,  4, 12])],\n",
       " [[0, 2, 4, 6, 12], 3, array([ 2, 12,  4,  6])]]"
      ]
     },
     "execution_count": 272,
     "metadata": {},
     "output_type": "execute_result"
    }
   ],
   "source": [
    "info[0:12]"
   ]
  }
 ],
 "metadata": {
  "kernelspec": {
   "display_name": "Python 2",
   "language": "python",
   "name": "python2"
  },
  "language_info": {
   "codemirror_mode": {
    "name": "ipython",
    "version": 2
   },
   "file_extension": ".py",
   "mimetype": "text/x-python",
   "name": "python",
   "nbconvert_exporter": "python",
   "pygments_lexer": "ipython2",
   "version": "2.7.13"
  }
 },
 "nbformat": 4,
 "nbformat_minor": 2
}
